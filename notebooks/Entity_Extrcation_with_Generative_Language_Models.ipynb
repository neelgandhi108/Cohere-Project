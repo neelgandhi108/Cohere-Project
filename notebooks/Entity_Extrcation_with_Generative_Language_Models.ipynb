{
 "cells": [
  {
   "cell_type": "markdown",
   "id": "66368ec5-0276-454f-b290-32e135455368",
   "metadata": {
    "id": "66368ec5-0276-454f-b290-32e135455368"
   },
   "source": [
    "### Using Cohere's Generative model to extract topic entities  and score perfomance of the model.\n",
    "\n",
    "Using named-entity recognition(NER) we extract information that seeks to locate and classify named entities mentioned in unstructured text into pre-defined categories such as person names, organizations, locations, medical codes, time expressions, quantities, monetary values, percentages, etc. \n",
    "\n",
    "![NER Diagram](C:\\Users\\RYZEN\\Cohere\\Customer-Feedback-Analysis\\NER.png)\n",
    "\n",
    "This notebook also demonstrates the broader usecase of structured generation based on providing multiple examples in the prompt.\n",
    "\n",
    "\n",
    "The data are job descriptions ( together named entities)  and  relationships between entities in json forma. If the model is unable to detect the entities, it will return \"none\".\n",
    "\n",
    "## Setup\n",
    "Let's start by installing the packages we need."
   ]
  },
  {
   "cell_type": "code",
   "execution_count": null,
   "id": "00b28473-48d9-4036-880f-71a839d3df7f",
   "metadata": {
    "colab": {
     "base_uri": "https://localhost:8080/"
    },
    "id": "00b28473-48d9-4036-880f-71a839d3df7f",
    "outputId": "a85ad413-2165-45e7-dac4-7323f89eaf6f"
   },
   "outputs": [],
   "source": [
    "!pip install cohere requests tqdm"
   ]
  },
  {
   "cell_type": "markdown",
   "id": "c1d1f58a-1a30-42bb-a443-e9227c4a4ff7",
   "metadata": {
    "id": "c1d1f58a-1a30-42bb-a443-e9227c4a4ff7"
   },
   "source": [
    "We'll then import these packages and declare the function that retrieves post titles from reddit."
   ]
  },
  {
   "cell_type": "code",
   "execution_count": null,
   "id": "b9b83146-5648-40b7-8a26-6dba4e6ef6e0",
   "metadata": {
    "id": "b9b83146-5648-40b7-8a26-6dba4e6ef6e0"
   },
   "outputs": [],
   "source": [
    "#importing packages and reading data for training(fine tuning) the model\n",
    "import cohere\n",
    "import pandas as pd\n",
    "import requests\n",
    "import datetime\n",
    "from tqdm import tqdm\n",
    "pd.set_option('display.max_colwidth', None)"
   ]
  },
  {
   "cell_type": "markdown",
   "id": "e78c4f33-3d35-448c-b511-e5150bbe951c",
   "metadata": {
    "id": "e78c4f33-3d35-448c-b511-e5150bbe951c"
   },
   "source": [
    "Get API key from cohere.ai"
   ]
  },
  {
   "cell_type": "code",
   "execution_count": null,
   "id": "9c1554a9-9203-4ca9-9711-aa9ce051721e",
   "metadata": {
    "id": "9c1554a9-9203-4ca9-9711-aa9ce051721e"
   },
   "outputs": [],
   "source": [
    "# Paste your API key here. \n",
    "api_key = 'nidVfcm5xYEyW8etrREYrKmXjcdD65sCGVhxRJOl'\n",
    "\n",
    "# Create and retrieve a Cohere API key from os.cohere.ai\n",
    "co = cohere.Client(api_key)"
   ]
  },
  {
   "cell_type": "markdown",
   "id": "edb17ad3-22f6-46f4-82f4-57b72f4ee973",
   "metadata": {
    "id": "edb17ad3-22f6-46f4-82f4-57b72f4ee973"
   },
   "source": [
    "## Training our prompt\n",
    "\n",
    "In our prompt, we'll present the model with  news item dataset (e.g. title +  description + body) and the expected output we expect."
   ]
  },
  {
   "cell_type": "code",
   "execution_count": null,
   "metadata": {},
   "outputs": [],
   "source": [
    "import os\n",
    "os.listdir()"
   ]
  },
  {
   "cell_type": "code",
   "execution_count": null,
   "metadata": {},
   "outputs": [],
   "source": [
    "train = pd.read_json('../data/relations_dev_train.json')\n",
    "test= pd.read_json('../data/relations_test.json')\n"
   ]
  },
  {
   "cell_type": "code",
   "execution_count": 33,
   "id": "da94a62a",
   "metadata": {},
   "outputs": [],
   "source": [
    "from cProfile import label\n",
    "\n",
    "\n",
    "def preprocess_tokens(tokens):\n",
    "    enti={}\n",
    "    for t in tokens:\n",
    "        \n",
    "        if t['entityLabel'] in enti.keys():\n",
    "            enti[t['entityLabel']] = enti[t['entityLabel']] +','+t['text']\n",
    "        else:\n",
    "            enti[t['entityLabel']] = t['text']\n",
    "    label = \"\"\n",
    "    for k, v in enti.items():\n",
    "        label += k+':'+v+\"\\n\"\n",
    "    return label"
   ]
  },
  {
   "cell_type": "code",
   "execution_count": 34,
   "id": "af55f7db",
   "metadata": {},
   "outputs": [],
   "source": [
    "train['label'] = train['tokens'].apply(preprocess_tokens)\n",
    "test['label'] = test['tokens'].apply(preprocess_tokens)\n"
   ]
  },
  {
   "cell_type": "code",
   "execution_count": 35,
   "id": "a10e6784-6e8b-4a17-83fd-ec34d90c90c6",
   "metadata": {
    "id": "a10e6784-6e8b-4a17-83fd-ec34d90c90c6",
    "tags": []
   },
   "outputs": [
    {
     "data": {
      "text/plain": [
       "[('Bachelor',\n",
       "  \"Bachelor's degree in Mechanical Engineering or Physical Science 3+ years track record of developing or specifying fiber optic cables and connector related products Knowledge of fiber optic component, cabling, and interconnect products, technologies, and standards Experience in statistical data analysis Experience with product life cycle management (PLM) process Experience providing solutions to problems and meeting deadlines Experience engaging stakeholders PREFERRED Advanced degree Experience using a software tool for statistical data analysis such as JMP Experience using Agile as product life-cycle management tool Data center or other mission critical development experience\"),\n",
       " ('BS/MS',\n",
       "  '10+ years of software engineering work experience. Technical experience in release automation engineering, CI/CD or related roles. Experience building and leading a software organization through product design, delivery and commercialization of consumer electronics devices. Experience recruiting and managing technical teams, including performance management. BS/MS in Computer Science. Experience in leading timeline, multi-partner initiatives. Organizational communication and coordination experience. PREFERRED 5+ years of experience with hands-on technical management, release engineering, tools engineering, DevOps, or related area.'),\n",
       " ('BS',\n",
       "  'BS degree in Computer Science or related field. 7+ years C++ experience, including C++11 features and principles. 5+ years experience creating software for real-time environments such as games or robotics. 2+ years experience managing software engineers. Proven track record of software development, including shipping one or more products on large code bases that span platforms and tools. Problem solving and optimization experience. Communication experience and demonstrated experience working across disciplines and teams to drive solutions. PREFERRED Hands-on experience with 3D computer vision algorithms including Calibration, SLAM, Reconstruction, Mapping, Localization, Sensor Fusion, State Estimation and Image Processing Experience with designing (products or open-source/git software) of inertial/optical sensing devices Publication in leading workshops or conferences such as CVPR, ECCV, ICCV, SIGGRAPH, ICCP, RSS, ICRA, etc.'),\n",
       " ('BS/MS',\n",
       "  'Experience in backend services, systems, and data infrastructure. BS/MS in Computer Science or a related technical field. 5+ years of work experience architecting, developing, and shipping software products and/or services. 4+ years of experience managing cross-functional engineering teams.'),\n",
       " ('BS',\n",
       "  'BS in Electrical Engineering or Computer Engineering, or related Engineering Degree, with 3+ years of industry experience. 3+ years of experience with PCB design with both integrated and discrete circuits, and high-speed interfaces. Experience with development and bring-up of data center or Enterprise infrastructure system equipment. Experience with analyzing and resolving system hardware issues. PREFERRED MS in electrical engineering or computer engineering. 5+ years of industry experience. Familiar with storage server architectures with HDD. Experience with end-to-end enabling, design, and deployment cycle of a product. Experience with working with thermal, mechanical, management firmware, system firmware, and software teams during product development. Experience with design and troubleshooting data buses used in server such as PCIe, SAS, SATA, I2C. Experience with industry standard EDA tools for developing PCB designs. Knowledge of using Linux for testing.'),\n",
       " ('MS',\n",
       "  'BS in Electrical Engineering or Computer Engineering, or related Engineering Degree, with 3+ years of industry experience. 3+ years of experience with PCB design with both integrated and discrete circuits, and high-speed interfaces. Experience with development and bring-up of data center or Enterprise infrastructure system equipment. Experience with analyzing and resolving system hardware issues. PREFERRED MS in electrical engineering or computer engineering. 5+ years of industry experience. Familiar with storage server architectures with HDD. Experience with end-to-end enabling, design, and deployment cycle of a product. Experience with working with thermal, mechanical, management firmware, system firmware, and software teams during product development. Experience with design and troubleshooting data buses used in server such as PCIe, SAS, SATA, I2C. Experience with industry standard EDA tools for developing PCB designs. Knowledge of using Linux for testing.'),\n",
       " ('Bachelor',\n",
       "  \"Bachelor's Degree in Computing Science or a related subject Java experience Unix experience English: Fluent Preferred Tech and Prof Experience N/A EO Statement IBM is committed to creating a diverse environment and is proud to be an equal opportunity employer. All qualified applicants will receive consideration for employment without regard to race, color, religion, gender, gender identity or expression, sexual orientation, national origin, genetics, disability, age, or veteran status. IBM is also committed to compliance with all fair employment practices regarding citizenship and immigration status. .\"),\n",
       " ('BA/BS',\n",
       "  '5+ years of software engineering work experience, including hands-on technical management.5+ years coding in one of the following languages: C++, Java, and/or PHP.Demonstrated ability to recruit and manage technical teams, including performance management.BA/BS in Computer Science (In lieu of degree, 4+ years relevant work experience)'),\n",
       " ('BS/MS',\n",
       "  'Experience being technical, hands-on and a people manager for technical teams Experience leading, technically-challenging, cross-functional infrastructure projects from conception to end Experience with Unix internals (especially FreeBSD and Linux) Experience with multi-node cluster handling live traffic Knowledge of TCP/IP, experience with network programming Experience building and scaling distributed available systems 8+ years of work experience in software engineering, including 3+ years of proven hands-on technical management experience of software engineers BS/MS in Computer Science (In lieu of degree, work experience)'),\n",
       " ('BS/MS',\n",
       "  'Basic : A BS/MS in Computer Science or related field Preferred : 5+ years of programming experience writing code in Java, C++, C#, or C or other object-oriented programming language Experience developing and testing computer software and/or online services Strong coding, debugging and problem-solving skills Strong knowledge of object-oriented programming language paradigms Great communication skills to collaborate cross-group and work effectively within the team Expertise in web or mobile application development Expertise in relational databases, distributed systems and/or big data technologies Experience in developing large scale services Ability to meet Microsoft, customer and/or government security screening requirements are required for this role. These requirements include, but are not limited to the following specialized security screenings: Microsoft Cloud Background Check: This position will be required to pass the Microsoft Cloud background check upon hire/transfer and every two years thereafter.'),\n",
       " ('BA/BS degree',\n",
       "  'Skills & : Exceptional management skills, with a proven ability to develop collaborative teams of exceptional engineers Knowledge of the Web UX industry today Expert understanding of web services and site technologies (for example, REST APIs , HTML, CSS, JavaScript, JSON etc.) Experience with newer technologies like AngularJS, Cordova, and ReactJS a plus Experience with scrum, Kanban, or other agile engineering techniques Experience Required: BA/BS degree in CS, related discipline or equivalent work experience 3 or more years of engineering management experience 4 or more years of Web UX design and coding experience in high scale services 7 or more years of general design and coding experience (C++, C#, and/or Java) //epicMEE Come join us and help shape how we do amazing customer experiences on the web!'),\n",
       " ('Bachelor',\n",
       "  'include: Bachelor of Mechanical Engineering or equivalent. At least 5 years of HW engineering experience. Excellent communication, teamwork, documentation and organizational skills. Great attitude and self-motivation. Systematic and conceptual thinking. Proficiency with Mechanical design tool, like CREO or other. Comfortable in a lab environment using test and measurement equipment to characterize and analyze designs. Proficiency with board and system level design, analysis, verification, and documentation. Proficiency with Statistical analysis methods and tools such as JMP, preferred. Experience delivering solutions for high-mix high-volume production, preferred. Ability to troubleshoot to root cause and solve complex problems. SPC and six sigma methodologies.'),\n",
       " ('BS/MS',\n",
       "  'A successful member of our team will have: 5 + years of industry experience developing and implementing tools and applications at scale. BS/MS in Computer Science or equivalent industry experience. Demonstrated CS fundamentals with a deep appreciation for the differences between platforms and environments. Demonstrated technical design, problem solving and debugging skills. Unwavering passion to understand and simplify the developer experience. Fantastic communication skills. A track record of working collaboratively to understand customer needs and create solutions that positively impact our customers.')]"
      ]
     },
     "execution_count": 35,
     "metadata": {},
     "output_type": "execute_result"
    }
   ],
   "source": [
    "\n",
    "job_entities = [\n",
    "    (\"Bachelor\", \"Bachelor's degree in Mechanical Engineering or Physical Science 3+ years track record of developing or specifying fiber optic cables and connector related products Knowledge of fiber optic component, cabling, and interconnect products, technologies, and standards Experience in statistical data analysis Experience with product life cycle management (PLM) process Experience providing solutions to problems and meeting deadlines Experience engaging stakeholders PREFERRED Advanced degree Experience using a software tool for statistical data analysis such as JMP Experience using Agile as product life-cycle management tool Data center or other mission critical development experience\"),\n",
    "    (\"BS/MS\", \"10+ years of software engineering work experience. Technical experience in release automation engineering, CI/CD or related roles. Experience building and leading a software organization through product design, delivery and commercialization of consumer electronics devices. Experience recruiting and managing technical teams, including performance management. BS/MS in Computer Science. Experience in leading timeline, multi-partner initiatives. Organizational communication and coordination experience. PREFERRED 5+ years of experience with hands-on technical management, release engineering, tools engineering, DevOps, or related area.\"),\n",
    "    (\"BS\", \"BS degree in Computer Science or related field. 7+ years C++ experience, including C++11 features and principles. 5+ years experience creating software for real-time environments such as games or robotics. 2+ years experience managing software engineers. Proven track record of software development, including shipping one or more products on large code bases that span platforms and tools. Problem solving and optimization experience. Communication experience and demonstrated experience working across disciplines and teams to drive solutions. PREFERRED Hands-on experience with 3D computer vision algorithms including Calibration, SLAM, Reconstruction, Mapping, Localization, Sensor Fusion, State Estimation and Image Processing Experience with designing (products or open-source/git software) of inertial/optical sensing devices Publication in leading workshops or conferences such as CVPR, ECCV, ICCV, SIGGRAPH, ICCP, RSS, ICRA, etc.\"),\n",
    "    (\"BS/MS\", \"Experience in backend services, systems, and data infrastructure. BS/MS in Computer Science or a related technical field. 5+ years of work experience architecting, developing, and shipping software products and/or services. 4+ years of experience managing cross-functional engineering teams.\"),\n",
    "    (\"BS\", \"BS in Electrical Engineering or Computer Engineering, or related Engineering Degree, with 3+ years of industry experience. 3+ years of experience with PCB design with both integrated and discrete circuits, and high-speed interfaces. Experience with development and bring-up of data center or Enterprise infrastructure system equipment. Experience with analyzing and resolving system hardware issues. PREFERRED MS in electrical engineering or computer engineering. 5+ years of industry experience. Familiar with storage server architectures with HDD. Experience with end-to-end enabling, design, and deployment cycle of a product. Experience with working with thermal, mechanical, management firmware, system firmware, and software teams during product development. Experience with design and troubleshooting data buses used in server such as PCIe, SAS, SATA, I2C. Experience with industry standard EDA tools for developing PCB designs. Knowledge of using Linux for testing.\"),\n",
    "    (\"MS\", \"BS in Electrical Engineering or Computer Engineering, or related Engineering Degree, with 3+ years of industry experience. 3+ years of experience with PCB design with both integrated and discrete circuits, and high-speed interfaces. Experience with development and bring-up of data center or Enterprise infrastructure system equipment. Experience with analyzing and resolving system hardware issues. PREFERRED MS in electrical engineering or computer engineering. 5+ years of industry experience. Familiar with storage server architectures with HDD. Experience with end-to-end enabling, design, and deployment cycle of a product. Experience with working with thermal, mechanical, management firmware, system firmware, and software teams during product development. Experience with design and troubleshooting data buses used in server such as PCIe, SAS, SATA, I2C. Experience with industry standard EDA tools for developing PCB designs. Knowledge of using Linux for testing.\"),\n",
    "    (\"Bachelor\", \"Bachelor's Degree in Computing Science or a related subject Java experience Unix experience English: Fluent Preferred Tech and Prof Experience N/A EO Statement IBM is committed to creating a diverse environment and is proud to be an equal opportunity employer. All qualified applicants will receive consideration for employment without regard to race, color, religion, gender, gender identity or expression, sexual orientation, national origin, genetics, disability, age, or veteran status. IBM is also committed to compliance with all fair employment practices regarding citizenship and immigration status. .\"),\n",
    "    (\"BA/BS\", \"5+ years of software engineering work experience, including hands-on technical management.5+ years coding in one of the following languages: C++, Java, and/or PHP.Demonstrated ability to recruit and manage technical teams, including performance management.BA/BS in Computer Science (In lieu of degree, 4+ years relevant work experience)\"),\n",
    "    (\"BS/MS\", \"Experience being technical, hands-on and a people manager for technical teams Experience leading, technically-challenging, cross-functional infrastructure projects from conception to end Experience with Unix internals (especially FreeBSD and Linux) Experience with multi-node cluster handling live traffic Knowledge of TCP/IP, experience with network programming Experience building and scaling distributed available systems 8+ years of work experience in software engineering, including 3+ years of proven hands-on technical management experience of software engineers BS/MS in Computer Science (In lieu of degree, work experience)\"),\n",
    "    (\"BS/MS\", \"Basic : A BS/MS in Computer Science or related field Preferred : 5+ years of programming experience writing code in Java, C++, C#, or C or other object-oriented programming language Experience developing and testing computer software and/or online services Strong coding, debugging and problem-solving skills Strong knowledge of object-oriented programming language paradigms Great communication skills to collaborate cross-group and work effectively within the team Expertise in web or mobile application development Expertise in relational databases, distributed systems and/or big data technologies Experience in developing large scale services Ability to meet Microsoft, customer and/or government security screening requirements are required for this role. These requirements include, but are not limited to the following specialized security screenings: Microsoft Cloud Background Check: This position will be required to pass the Microsoft Cloud background check upon hire/transfer and every two years thereafter.\"),\n",
    "    (\"BA/BS degree\", \"Skills & : Exceptional management skills, with a proven ability to develop collaborative teams of exceptional engineers Knowledge of the Web UX industry today Expert understanding of web services and site technologies (for example, REST APIs , HTML, CSS, JavaScript, JSON etc.) Experience with newer technologies like AngularJS, Cordova, and ReactJS a plus Experience with scrum, Kanban, or other agile engineering techniques Experience Required: BA/BS degree in CS, related discipline or equivalent work experience 3 or more years of engineering management experience 4 or more years of Web UX design and coding experience in high scale services 7 or more years of general design and coding experience (C++, C#, and/or Java) //epicMEE Come join us and help shape how we do amazing customer experiences on the web!\"),\n",
    "    (\"Bachelor\", \"include: Bachelor of Mechanical Engineering or equivalent. At least 5 years of HW engineering experience. Excellent communication, teamwork, documentation and organizational skills. Great attitude and self-motivation. Systematic and conceptual thinking. Proficiency with Mechanical design tool, like CREO or other. Comfortable in a lab environment using test and measurement equipment to characterize and analyze designs. Proficiency with board and system level design, analysis, verification, and documentation. Proficiency with Statistical analysis methods and tools such as JMP, preferred. Experience delivering solutions for high-mix high-volume production, preferred. Ability to troubleshoot to root cause and solve complex problems. SPC and six sigma methodologies.\"),\n",
    "    (\"BS/MS\", \"A successful member of our team will have: 5 + years of industry experience developing and implementing tools and applications at scale. BS/MS in Computer Science or equivalent industry experience. Demonstrated CS fundamentals with a deep appreciation for the differences between platforms and environments. Demonstrated technical design, problem solving and debugging skills. Unwavering passion to understand and simplify the developer experience. Fantastic communication skills. A track record of working collaboratively to understand customer needs and create solutions that positively impact our customers.\")\n",
    "]\n",
    "# job_entities = [\n",
    "#     (\"text\", \"Bachelor\",\n",
    "#         \"start\", '0',\n",
    "#         \"end\", '8',\n",
    "#         \"token_start\", '0',\n",
    "#         \"token_end\", '0',\n",
    "#         \"entityLabel\", \"DIPLOMA\"),\n",
    "#      (\"text\", \"Mechanical Engineering\",\n",
    "#         \"start\", '21',\n",
    "#         \"end\", '43',\n",
    "#         \"token_start\", '4',\n",
    "#         \"token_end\", '5',\n",
    "#         \"entityLabel\", \"DIPLOMA_MAJOR\"),\n",
    "#      (\"text\", \"developing\",\n",
    "#         \"start\", '89',\n",
    "#         \"end\", '99',\n",
    "#         \"token_start\", '15',\n",
    "#         \"token_end\", '15',\n",
    "#         \"entityLabel\", \"SKILLS\"),\n",
    "#      (\"text\", \"connector related products\",\n",
    "#         \"start\", '137',\n",
    "#         \"end\", '163',\n",
    "#         \"token_start\", '22',\n",
    "#         \"token_end\", '24',\n",
    "#         \"entityLabel\", \"SKILLS\")\n",
    "#  ]\n",
    "job_entities"
   ]
  },
  {
   "cell_type": "markdown",
   "id": "fdc57403-013a-4e31-94f8-27c18702c770",
   "metadata": {
    "id": "fdc57403-013a-4e31-94f8-27c18702c770"
   },
   "source": [
    "Creating a prompt that demonstrates the task to the model. The prompt contains the examples above, and then presents the input text and asks the model to extract the movie name.\n",
    "\n",
    "\n",
    "![Extraction prompt containing the examples and the input text](https://github.com/cohere-ai/notebooks/raw/main/notebooks/images/extraction-prompt-example.png)\n"
   ]
  },
  {
   "cell_type": "code",
   "execution_count": 36,
   "id": "0ae89a2b-9f94-4e1e-8d00-378cc1b48149",
   "metadata": {
    "id": "0ae89a2b-9f94-4e1e-8d00-378cc1b48149"
   },
   "outputs": [],
   "source": [
    "#@title Create the prompt (Run this cell to execute required code) {display-mode: \"form\"}\n",
    "\n",
    "class cohereExtractor():\n",
    "    def __init__(self, examples, example_labels, labels, task_desciption, example_prompt):\n",
    "        self.examples = examples\n",
    "        self.example_labels = example_labels\n",
    "        self.labels = labels\n",
    "        self.task_desciption = task_desciption\n",
    "        self.example_prompt = example_prompt\n",
    "\n",
    "    def make_prompt(self, example):\n",
    "        examples = self.examples + [example]\n",
    "        labels = self.example_labels + [\"\"]\n",
    "        return (self.task_desciption +\n",
    "                \"\\n---\\n\".join( [examples[i] + \"\\n\" +\n",
    "                                self.example_prompt + \n",
    "                                 labels[i] for i in range(len(examples))]))\n",
    "\n",
    "    def extract(self, example):\n",
    "      extraction = co.generate(\n",
    "          model='large',\n",
    "          prompt=self.make_prompt(example),\n",
    "          max_tokens=10,\n",
    "          temperature=0.1,\n",
    "          stop_sequences=[\"\\n\"])\n",
    "      return(extraction.generations[0].text[:-1])\n",
    "\n",
    "\n",
    "cohereJobExtractor = cohereExtractor([e[1] for e in job_entities], \n",
    "                                       [e[0] for e in job_entities], [],\n",
    "                                       \"\", \n",
    "                                       \"extract diploma from the document:\")\n",
    "\n",
    "\n",
    "# cohereJobExtractor = cohereExtractor([e[1] for e in job_entities], \n",
    "#                                      [e[0] for e in job_entities], [],\n",
    "#                                        \"\", \n",
    "#                                        \"extract the EntityLabel:\")\n",
    "\n",
    "# Uncomment to inspect the full prompt:\n",
    "# print(cohereMovieExtractor.make_prompt('<input text here>'))"
   ]
  },
  {
   "cell_type": "code",
   "execution_count": 37,
   "id": "Fw8V9H2EF16U",
   "metadata": {
    "colab": {
     "base_uri": "https://localhost:8080/"
    },
    "id": "Fw8V9H2EF16U",
    "outputId": "e60b28e9-7454-4e09-b658-8a56c7f1a553"
   },
   "outputs": [
    {
     "name": "stdout",
     "output_type": "stream",
     "text": [
      "Bachelor's degree in Mechanical Engineering or Physical Science 3+ years track record of developing or specifying fiber optic cables and connector related products Knowledge of fiber optic component, cabling, and interconnect products, technologies, and standards Experience in statistical data analysis Experience with product life cycle management (PLM) process Experience providing solutions to problems and meeting deadlines Experience engaging stakeholders PREFERRED Advanced degree Experience using a software tool for statistical data analysis such as JMP Experience using Agile as product life-cycle management tool Data center or other mission critical development experience\n",
      "extract diploma from the document:Bachelor\n",
      "---\n",
      "10+ years of software engineering work experience. Technical experience in release automation engineering, CI/CD or related roles. Experience building and leading a software organization through product design, delivery and commercialization of consumer electronics devices. Experience recruiting and managing technical teams, including performance management. BS/MS in Computer Science. Experience in leading timeline, multi-partner initiatives. Organizational communication and coordination experience. PREFERRED 5+ years of experience with hands-on technical management, release engineering, tools engineering, DevOps, or related area.\n",
      "extract diploma from the document:BS/MS\n",
      "---\n",
      "BS degree in Computer Science or related field. 7+ years C++ experience, including C++11 features and principles. 5+ years experience creating software for real-time environments such as games or robotics. 2+ years experience managing software engineers. Proven track record of software development, including shipping one or more products on large code bases that span platforms and tools. Problem solving and optimization experience. Communication experience and demonstrated experience working across disciplines and teams to drive solutions. PREFERRED Hands-on experience with 3D computer vision algorithms including Calibration, SLAM, Reconstruction, Mapping, Localization, Sensor Fusion, State Estimation and Image Processing Experience with designing (products or open-source/git software) of inertial/optical sensing devices Publication in leading workshops or conferences such as CVPR, ECCV, ICCV, SIGGRAPH, ICCP, RSS, ICRA, etc.\n",
      "extract diploma from the document:BS\n",
      "---\n",
      "Experience in backend services, systems, and data infrastructure. BS/MS in Computer Science or a related technical field. 5+ years of work experience architecting, developing, and shipping software products and/or services. 4+ years of experience managing cross-functional engineering teams.\n",
      "extract diploma from the document:BS/MS\n",
      "---\n",
      "BS in Electrical Engineering or Computer Engineering, or related Engineering Degree, with 3+ years of industry experience. 3+ years of experience with PCB design with both integrated and discrete circuits, and high-speed interfaces. Experience with development and bring-up of data center or Enterprise infrastructure system equipment. Experience with analyzing and resolving system hardware issues. PREFERRED MS in electrical engineering or computer engineering. 5+ years of industry experience. Familiar with storage server architectures with HDD. Experience with end-to-end enabling, design, and deployment cycle of a product. Experience with working with thermal, mechanical, management firmware, system firmware, and software teams during product development. Experience with design and troubleshooting data buses used in server such as PCIe, SAS, SATA, I2C. Experience with industry standard EDA tools for developing PCB designs. Knowledge of using Linux for testing.\n",
      "extract diploma from the document:BS\n",
      "---\n",
      "BS in Electrical Engineering or Computer Engineering, or related Engineering Degree, with 3+ years of industry experience. 3+ years of experience with PCB design with both integrated and discrete circuits, and high-speed interfaces. Experience with development and bring-up of data center or Enterprise infrastructure system equipment. Experience with analyzing and resolving system hardware issues. PREFERRED MS in electrical engineering or computer engineering. 5+ years of industry experience. Familiar with storage server architectures with HDD. Experience with end-to-end enabling, design, and deployment cycle of a product. Experience with working with thermal, mechanical, management firmware, system firmware, and software teams during product development. Experience with design and troubleshooting data buses used in server such as PCIe, SAS, SATA, I2C. Experience with industry standard EDA tools for developing PCB designs. Knowledge of using Linux for testing.\n",
      "extract diploma from the document:MS\n",
      "---\n",
      "Bachelor's Degree in Computing Science or a related subject Java experience Unix experience English: Fluent Preferred Tech and Prof Experience N/A EO Statement IBM is committed to creating a diverse environment and is proud to be an equal opportunity employer. All qualified applicants will receive consideration for employment without regard to race, color, religion, gender, gender identity or expression, sexual orientation, national origin, genetics, disability, age, or veteran status. IBM is also committed to compliance with all fair employment practices regarding citizenship and immigration status. .\n",
      "extract diploma from the document:Bachelor\n",
      "---\n",
      "5+ years of software engineering work experience, including hands-on technical management.5+ years coding in one of the following languages: C++, Java, and/or PHP.Demonstrated ability to recruit and manage technical teams, including performance management.BA/BS in Computer Science (In lieu of degree, 4+ years relevant work experience)\n",
      "extract diploma from the document:BA/BS\n",
      "---\n",
      "Experience being technical, hands-on and a people manager for technical teams Experience leading, technically-challenging, cross-functional infrastructure projects from conception to end Experience with Unix internals (especially FreeBSD and Linux) Experience with multi-node cluster handling live traffic Knowledge of TCP/IP, experience with network programming Experience building and scaling distributed available systems 8+ years of work experience in software engineering, including 3+ years of proven hands-on technical management experience of software engineers BS/MS in Computer Science (In lieu of degree, work experience)\n",
      "extract diploma from the document:BS/MS\n",
      "---\n",
      "Basic : A BS/MS in Computer Science or related field Preferred : 5+ years of programming experience writing code in Java, C++, C#, or C or other object-oriented programming language Experience developing and testing computer software and/or online services Strong coding, debugging and problem-solving skills Strong knowledge of object-oriented programming language paradigms Great communication skills to collaborate cross-group and work effectively within the team Expertise in web or mobile application development Expertise in relational databases, distributed systems and/or big data technologies Experience in developing large scale services Ability to meet Microsoft, customer and/or government security screening requirements are required for this role. These requirements include, but are not limited to the following specialized security screenings: Microsoft Cloud Background Check: This position will be required to pass the Microsoft Cloud background check upon hire/transfer and every two years thereafter.\n",
      "extract diploma from the document:BS/MS\n",
      "---\n",
      "Skills & : Exceptional management skills, with a proven ability to develop collaborative teams of exceptional engineers Knowledge of the Web UX industry today Expert understanding of web services and site technologies (for example, REST APIs , HTML, CSS, JavaScript, JSON etc.) Experience with newer technologies like AngularJS, Cordova, and ReactJS a plus Experience with scrum, Kanban, or other agile engineering techniques Experience Required: BA/BS degree in CS, related discipline or equivalent work experience 3 or more years of engineering management experience 4 or more years of Web UX design and coding experience in high scale services 7 or more years of general design and coding experience (C++, C#, and/or Java) //epicMEE Come join us and help shape how we do amazing customer experiences on the web!\n",
      "extract diploma from the document:BA/BS degree\n",
      "---\n",
      "include: Bachelor of Mechanical Engineering or equivalent. At least 5 years of HW engineering experience. Excellent communication, teamwork, documentation and organizational skills. Great attitude and self-motivation. Systematic and conceptual thinking. Proficiency with Mechanical design tool, like CREO or other. Comfortable in a lab environment using test and measurement equipment to characterize and analyze designs. Proficiency with board and system level design, analysis, verification, and documentation. Proficiency with Statistical analysis methods and tools such as JMP, preferred. Experience delivering solutions for high-mix high-volume production, preferred. Ability to troubleshoot to root cause and solve complex problems. SPC and six sigma methodologies.\n",
      "extract diploma from the document:Bachelor\n",
      "---\n",
      "A successful member of our team will have: 5 + years of industry experience developing and implementing tools and applications at scale. BS/MS in Computer Science or equivalent industry experience. Demonstrated CS fundamentals with a deep appreciation for the differences between platforms and environments. Demonstrated technical design, problem solving and debugging skills. Unwavering passion to understand and simplify the developer experience. Fantastic communication skills. A track record of working collaboratively to understand customer needs and create solutions that positively impact our customers.\n",
      "extract diploma from the document:BS/MS\n",
      "---\n",
      "<input document here>\n",
      "extract diploma from the document:\n"
     ]
    }
   ],
   "source": [
    "# This is what the prompt looks like:\n",
    "print(cohereJobExtractor.make_prompt('<input document here>'))"
   ]
  },
  {
   "cell_type": "markdown",
   "id": "aa02636a-eb2c-4096-a84e-5a8fb5f8249b",
   "metadata": {
    "id": "aa02636a-eb2c-4096-a84e-5a8fb5f8249b"
   },
   "source": [
    "## Getting the data\n",
    "Let's now make the API call to get the job list entities\n"
   ]
  },
  {
   "cell_type": "code",
   "execution_count": null,
   "id": "d569e098-d97e-41c2-93c7-7f10e09eb53d",
   "metadata": {
    "colab": {
     "base_uri": "https://localhost:8080/"
    },
    "id": "d569e098-d97e-41c2-93c7-7f10e09eb53d",
    "outputId": "2ba5a845-b009-42c7-f783-ea8d005ec3bc"
   },
   "outputs": [],
   "source": [
    "# #num_posts = 5\n",
    "\n",
    " # job_list = [\n",
    "# #     \"DIPLOMA\",\n",
    "# #     \"DIPLOMA_MAJOR\",\n",
    "# #     \"EXPERIENCE\",\n",
    "# #     \"SKILLS\"\n",
    "# # ]\n",
    "\n",
    "# job_list = [\n",
    "#    (\"Bachelor of Mechanical Engineering\",\n",
    "#     \"At least 5 years of HW engineering experience\",\n",
    "#     \"technical design, problem solving and debugging skills\"),\n",
    "#     ()\n",
    "#     ]\n",
    "\n",
    "# # Show the list\n"
   ]
  },
  {
   "cell_type": "markdown",
   "id": "29be719c-6ac9-49e1-a01c-e9ecac01c681",
   "metadata": {
    "id": "29be719c-6ac9-49e1-a01c-e9ecac01c681"
   },
   "source": [
    "## Running the model\n",
    "And now we loop over the posts and process each one of them with our extractor."
   ]
  },
  {
   "cell_type": "code",
   "execution_count": 41,
   "id": "999dad3e-7152-440d-bec9-ae8a89f10b8f",
   "metadata": {
    "colab": {
     "base_uri": "https://localhost:8080/"
    },
    "id": "999dad3e-7152-440d-bec9-ae8a89f10b8f",
    "outputId": "40c8ce64-793b-42bf-b44e-8ee07c0a7379",
    "tags": []
   },
   "outputs": [
    {
     "name": "stderr",
     "output_type": "stream",
     "text": [
      " 27%|██▋       | 3/11 [00:05<00:14,  1.86s/it]\n"
     ]
    }
   ],
   "source": [
    "test=pd.read_json('../data/relations_test.json')\n",
    "results = []\n",
    "for document in tqdm(test):\n",
    "    try:\n",
    "        extracted_text = cohereJobExtractor.extract('diploma')\n",
    "        results.append(extracted_text)\n",
    "    except Exception as e:\n",
    "        print('ERROR: ', e)"
   ]
  },
  {
   "cell_type": "markdown",
   "id": "a6a56981-5320-47d9-96bf-cf2b90278964",
   "metadata": {
    "id": "a6a56981-5320-47d9-96bf-cf2b90278964"
   },
   "source": [
    "Let's look at the results:"
   ]
  },
  {
   "cell_type": "code",
   "execution_count": null,
   "id": "296d7bde-c01e-48e2-bf41-24624307eca7",
   "metadata": {
    "colab": {
     "base_uri": "https://localhost:8080/",
     "height": 459
    },
    "id": "296d7bde-c01e-48e2-bf41-24624307eca7",
    "outputId": "9c1199cc-acaf-4cc7-93ff-0e51f4e7a149"
   },
   "outputs": [],
   "source": [
    "pd.DataFrame(data={'text': df, 'extracted_text': results})"
   ]
  },
  {
   "cell_type": "markdown",
   "id": "8ce85595-0aca-43d1-9d27-dd2954919970",
   "metadata": {
    "id": "8ce85595-0aca-43d1-9d27-dd2954919970"
   },
   "source": [
    "Looking at these results, the model got 9/10 correctly. It didn't pick up on Shaolin Soccer and God of Gambler in example \\#4. It also called the second example \"Pixar's Luca\" instead of \"Luca\". But maybe we'll let this one slide.\n",
    "\n",
    "When experimenting with extrction prompts, we'll often find edge-cases along the way. What if a post has two movies mentioned, for example? The more we run into such examples, the more examples we can add to the prompt that address these cases.\n",
    "\n",
    "## How well does this work?\n",
    "We can better measure the performance of this extraction method using a larger labeled dataset. So let's load a test set of 100 examples:"
   ]
  },
  {
   "cell_type": "code",
   "execution_count": null,
   "id": "f39dd295-debd-48d3-ad30-76068e4e47e6",
   "metadata": {
    "colab": {
     "base_uri": "https://localhost:8080/",
     "height": 423
    },
    "id": "f39dd295-debd-48d3-ad30-76068e4e47e6",
    "outputId": "6ca66b6d-effe-4f37-bc6b-b578e737b553",
    "tags": []
   },
   "outputs": [],
   "source": [
    "test_df = pd.read_csv('https://raw.githubusercontent.com/cohere-ai/notebooks/main/notebooks/data/movie_extraction_test_set_100.csv',index_col=0)\n",
    "test_df"
   ]
  },
  {
   "cell_type": "markdown",
   "id": "f57acd7d-4da3-4ef1-9488-556d9474fc59",
   "metadata": {
    "id": "f57acd7d-4da3-4ef1-9488-556d9474fc59"
   },
   "source": [
    "Let's run the extractor on these post titles (calling the API in parallel for quicker results):"
   ]
  },
  {
   "cell_type": "code",
   "execution_count": null,
   "id": "db5e9ff7-96fd-434f-859d-332866839af5",
   "metadata": {
    "id": "db5e9ff7-96fd-434f-859d-332866839af5"
   },
   "outputs": [],
   "source": [
    "from concurrent.futures import ThreadPoolExecutor\n",
    "\n",
    "extracted = []\n",
    "# Run the model to extract the entities\n",
    "with ThreadPoolExecutor(max_workers=8) as executor:\n",
    "    for i in executor.map(cohereMovieExtractor.extract, test_df['text']):\n",
    "        extracted.append(str(i).strip())\n",
    "# Save results\n",
    "test_df['extracted_text'] = extracted"
   ]
  },
  {
   "cell_type": "markdown",
   "id": "ca0b61fb-d97e-4623-a936-037d41935c9a",
   "metadata": {
    "id": "ca0b61fb-d97e-4623-a936-037d41935c9a"
   },
   "source": [
    "Let's look at some results:"
   ]
  },
  {
   "cell_type": "code",
   "execution_count": null,
   "id": "55b90bd5-fbd4-427d-9fb5-088caa8b9faa",
   "metadata": {
    "colab": {
     "base_uri": "https://localhost:8080/",
     "height": 206
    },
    "id": "55b90bd5-fbd4-427d-9fb5-088caa8b9faa",
    "outputId": "15298f0d-e9eb-427f-af0d-af45438a3836",
    "tags": []
   },
   "outputs": [],
   "source": [
    "test_df.head()"
   ]
  },
  {
   "cell_type": "markdown",
   "id": "887f90b0-131c-47e8-803e-405114a32986",
   "metadata": {
    "id": "887f90b0-131c-47e8-803e-405114a32986"
   },
   "source": [
    "Let's calculate the accuracy by comparing to the labeled examples"
   ]
  },
  {
   "cell_type": "code",
   "execution_count": null,
   "id": "992b3b1c-85a0-47e0-8821-d843882afc0b",
   "metadata": {
    "colab": {
     "base_uri": "https://localhost:8080/"
    },
    "id": "992b3b1c-85a0-47e0-8821-d843882afc0b",
    "outputId": "03a3670b-6354-4bd2-a195-e3c4fc55db9d"
   },
   "outputs": [],
   "source": [
    "# Compare the label to the extracted text\n",
    "test_df['correct'] = (test_df['label'].str.lower() == test_df['extracted_text'].str.lower()).astype(int)\n",
    "\n",
    "# Print the accuracy\n",
    "print(f'Classification accuracy {test_df[\"correct\"].mean() *100}%')"
   ]
  },
  {
   "cell_type": "markdown",
   "id": "dd278dc2-6ec0-47a8-906e-907e0da445cf",
   "metadata": {
    "id": "dd278dc2-6ec0-47a8-906e-907e0da445cf"
   },
   "source": [
    "So it seems this prompt works well on this small test set. It's not guaranteed it will do as well on other sets, however. The prompt can be improved by trying on more data, discovering edge cases, and adding more examples to the prompt.\n",
    "\n",
    "We can look at the examples it got wrong:"
   ]
  },
  {
   "cell_type": "code",
   "execution_count": null,
   "id": "5215a8b6-d19b-4622-af54-98bfb9b3118a",
   "metadata": {
    "colab": {
     "base_uri": "https://localhost:8080/",
     "height": 490
    },
    "id": "5215a8b6-d19b-4622-af54-98bfb9b3118a",
    "outputId": "418c73b9-e116-45a1-9e01-879d2ad976db"
   },
   "outputs": [],
   "source": [
    "test_df[test_df['correct']==0]"
   ]
  },
  {
   "cell_type": "markdown",
   "id": "e550c48e-a68c-4883-a5a6-2c379b13c3bf",
   "metadata": {
    "id": "e550c48e-a68c-4883-a5a6-2c379b13c3bf"
   },
   "source": [
    "It indeed failed to pick up a few examples. Sometimes this uncovers edge cases and understandable mistakes (e.g. two films are mentioned in the text). \n",
    "\n",
    "\n",
    "We can look at the classification report for a more detailed look at what's included in the test set, and what the model got right and wrong:"
   ]
  },
  {
   "cell_type": "code",
   "execution_count": null,
   "id": "e84eeadd-8aba-43a5-9461-b84305e162f2",
   "metadata": {
    "colab": {
     "base_uri": "https://localhost:8080/"
    },
    "id": "e84eeadd-8aba-43a5-9461-b84305e162f2",
    "outputId": "69d03f5e-93fb-4f66-d0af-d9969bbb9a9c"
   },
   "outputs": [],
   "source": [
    "from sklearn.metrics import classification_report\n",
    "import warnings\n",
    "warnings.filterwarnings('ignore')\n",
    "\n",
    "print(classification_report(test_df['label'].str.lower(), test_df['extracted_text'].str.lower()))"
   ]
  },
  {
   "cell_type": "markdown",
   "id": "197f724e-aa03-48a2-aafc-9da2fec0d720",
   "metadata": {
    "id": "197f724e-aa03-48a2-aafc-9da2fec0d720"
   },
   "source": [
    "This type of extraction is interesting because it doesn't just blindly look at the text. The model has picked up on movie information during its pretraining process and that helps it understand the task from only a few examples.\n",
    "\n",
    "You can think about extending this to other subreddits, to extract other kinds of entities and information. [Let us know in the forum](https://community.cohere.ai/) what you experiment with and what kinds of results you see!\n",
    "\n",
    "Happy building!"
   ]
  }
 ],
 "metadata": {
  "colab": {
   "collapsed_sections": [],
   "name": "Entity_Extraction_With_Generative_Models.ipynb",
   "provenance": []
  },
  "kernelspec": {
   "display_name": "Python 3.7.13 ('py37')",
   "language": "python",
   "name": "python3"
  },
  "language_info": {
   "codemirror_mode": {
    "name": "ipython",
    "version": 3
   },
   "file_extension": ".py",
   "mimetype": "text/x-python",
   "name": "python",
   "nbconvert_exporter": "python",
   "pygments_lexer": "ipython3",
   "version": "3.7.13"
  },
  "vscode": {
   "interpreter": {
    "hash": "0d4a887298c93e75dfac186fa3dbba4a0d244ea35d4e1c173dcb1dd3c776512e"
   }
  }
 },
 "nbformat": 4,
 "nbformat_minor": 5
}
